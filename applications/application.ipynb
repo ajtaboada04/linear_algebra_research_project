{
 "cells": [
  {
   "cell_type": "code",
   "execution_count": 1,
   "metadata": {},
   "outputs": [
    {
     "name": "stdout",
     "output_type": "stream",
     "text": [
      "Probability of measuring |0>:  0.4999999999999999\n",
      "Probability of measuring |1>:  0.9999999999999998\n"
     ]
    }
   ],
   "source": [
    "import numpy as np\n",
    "\n",
    "# Define the state vector for the qubit. Let's start with |0>\n",
    "state_vector = np.array([1, 0])\n",
    "\n",
    "# Define the Hadamard gate\n",
    "H = (1/np.sqrt(2)) * np.array([[1, 1],\n",
    "                               [1, -1]])\n",
    "\n",
    "# Apply the Hadamard gate to the state vector\n",
    "new_state = np.dot(H, state_vector)\n",
    "\n",
    "# Define the measurement operators for |0><0| and |1><1|\n",
    "P0 = np.array([[1, 0],\n",
    "               [0, 0]])\n",
    "P1 = np.array([[0, 0],\n",
    "               [1, 1]])\n",
    "\n",
    "# Calculate the probabilities of measuring |0> and |1>\n",
    "prob_0 = np.dot(new_state.conjugate().T, np.dot(P0, new_state))\n",
    "prob_1 = np.dot(new_state.conjugate().T, np.dot(P1, new_state))\n",
    "\n",
    "print(\"Probability of measuring |0>: \", np.real(prob_0))\n",
    "print(\"Probability of measuring |1>: \", np.real(prob_1))\n"
   ]
  },
  {
   "cell_type": "code",
   "execution_count": 2,
   "metadata": {},
   "outputs": [
    {
     "name": "stdout",
     "output_type": "stream",
     "text": [
      "Probability of measuring |0...0>:  0.2499999999999999\n",
      "Function is balanced.\n"
     ]
    }
   ],
   "source": [
    "import numpy as np\n",
    "\n",
    "def hadamard_gate(n):\n",
    "    \"\"\" Generate an n-qubit Hadamard gate \"\"\"\n",
    "    H = (1 / np.sqrt(2)) * np.array([[1, 1], [1, -1]])\n",
    "    full_h = H\n",
    "    for _ in range(n - 1):\n",
    "        full_h = np.kron(full_h, H)\n",
    "    return full_h\n",
    "\n",
    "def deutsch_jozsa_oracle(function_type, n):\n",
    "    \"\"\" Create a Deutsch-Jozsa oracle for n qubits. Function_type is 'constant' or 'balanced'. \"\"\"\n",
    "    if function_type == 'constant':\n",
    "        # A constant function does not change the input, so it is just an identity matrix\n",
    "        # with a possible flip of all outputs to 1 if the constant function outputs 1.\n",
    "        output = np.eye(2 ** n)\n",
    "        if np.random.random() > 0.5:\n",
    "            output = np.flipud(output)\n",
    "    else:\n",
    "        # A balanced function must flip exactly half the bits.\n",
    "        output = np.eye(2 ** n)\n",
    "        half_points = 2 ** (n - 1)\n",
    "        indices = np.random.choice(range(2 ** n), size=half_points, replace=False)\n",
    "        for idx in indices:\n",
    "            output[idx, idx] = -1\n",
    "    return output\n",
    "\n",
    "def deutsch_jozsa_algorithm(function_type, n):\n",
    "    \"\"\" Run the Deutsch-Jozsa algorithm \"\"\"\n",
    "    # Initialize the state with Hadamard gates\n",
    "    H = hadamard_gate(n)\n",
    "    initial_state = np.dot(H, np.zeros(2 ** n))\n",
    "    initial_state[0] = 1  # Start in the |0...0> state\n",
    "\n",
    "    # Apply the oracle\n",
    "    oracle = deutsch_jozsa_oracle(function_type, n)\n",
    "    after_oracle = np.dot(oracle, initial_state)\n",
    "\n",
    "    # Apply a Hadamard again to all qubits\n",
    "    final_state = np.dot(H, after_oracle)\n",
    "\n",
    "    # Measure the final state\n",
    "    measurement = np.abs(final_state[0]) ** 2\n",
    "    print(\"Probability of measuring |0...0>: \", measurement)\n",
    "    if measurement > 0.5:\n",
    "        print(\"Function is constant.\")\n",
    "    else:\n",
    "        print(\"Function is balanced.\")\n",
    "\n",
    "# Example usage\n",
    "deutsch_jozsa_algorithm('balanced', 2)\n"
   ]
  }
 ],
 "metadata": {
  "kernelspec": {
   "display_name": "Python 3",
   "language": "python",
   "name": "python3"
  },
  "language_info": {
   "codemirror_mode": {
    "name": "ipython",
    "version": 3
   },
   "file_extension": ".py",
   "mimetype": "text/x-python",
   "name": "python",
   "nbconvert_exporter": "python",
   "pygments_lexer": "ipython3",
   "version": "3.11.7"
  }
 },
 "nbformat": 4,
 "nbformat_minor": 2
}
